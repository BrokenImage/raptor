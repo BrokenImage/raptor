{
 "cells": [
  {
   "cell_type": "code",
   "execution_count": 11,
   "metadata": {},
   "outputs": [],
   "source": [
    "import numpy as np\n",
    "import keras as k\n",
    "import json\n",
    "from sklearn.preprocessing import LabelEncoder\n",
    "from sklearn.preprocessing import OneHotEncoder\n",
    "from sklearn.model_selection import train_test_split"
   ]
  },
  {
   "cell_type": "code",
   "execution_count": 25,
   "metadata": {},
   "outputs": [],
   "source": [
    "\"\"\"\n",
    "This function reads all of the files and lables from the json file then opens those files and converts the\n",
    "images to np arrays to be fed into the nn.\n",
    "NOTE: this is not a good thing to do if your dataset is too big, this may crash your computer\n",
    "\"\"\"\n",
    "def imagegen():\n",
    "    f = open('InfraredSolarModules/module_metadata.json',) \n",
    "    data = json.load(f) \n",
    "    f.close() \n",
    "    img = []\n",
    "    cat = []\n",
    "    for i in range(20000):\n",
    "        img.append(np.array(k.preprocessing.image.load_img('InfraredSolarModules/' + data[str(i)]['image_filepath'], color_mode = \"grayscale\")))\n",
    "        cat.append(data[str(i)]['anomaly_class'])\n",
    "    return np.array(img), np.array(cat)"
   ]
  },
  {
   "cell_type": "code",
   "execution_count": 26,
   "metadata": {},
   "outputs": [],
   "source": [
    "img, labels = imagegen() # load the data and labels\n",
    "img = img.reshape(20000, 40, 24, 1) # reshape to show color channels\n",
    "img = img / 255 # scale data"
   ]
  },
  {
   "cell_type": "code",
   "execution_count": 27,
   "metadata": {},
   "outputs": [],
   "source": [
    "X_train, X_test, y_train, y_test = train_test_split(img, labels, test_size=0.2)\n",
    "labelencoder = LabelEncoder() # Make a label encoder \n",
    "y_train = labelencoder.fit_transform(y_train) # encode labels to numbers\n",
    "y_test = labelencoder.transform(y_test)\n",
    "y_train = k.utils.to_categorical(y_train) # encode nubers to catagorical labels\n",
    "y_test = k.utils.to_categorical(y_test)"
   ]
  },
  {
   "cell_type": "code",
   "execution_count": 28,
   "metadata": {},
   "outputs": [
    {
     "data": {
      "text/plain": [
       "(16000, 40, 24, 1)"
      ]
     },
     "execution_count": 28,
     "metadata": {},
     "output_type": "execute_result"
    }
   ],
   "source": [
    "X_train.shape"
   ]
  },
  {
   "cell_type": "code",
   "execution_count": 29,
   "metadata": {},
   "outputs": [
    {
     "data": {
      "text/plain": [
       "(16000, 12)"
      ]
     },
     "execution_count": 29,
     "metadata": {},
     "output_type": "execute_result"
    }
   ],
   "source": [
    "y_train.shape"
   ]
  },
  {
   "cell_type": "code",
   "execution_count": 8,
   "metadata": {},
   "outputs": [],
   "source": [
    "# TODO: Upsample anomalies that don't happen often\n",
    "counts = {}\n",
    "for i in y_train:\n",
    "    try:\n",
    "        counts[str(i)] += 1\n",
    "    except:\n",
    "        counts[str(i)] = 0"
   ]
  },
  {
   "cell_type": "code",
   "execution_count": 9,
   "metadata": {},
   "outputs": [
    {
     "data": {
      "text/plain": [
       "{'[0. 0. 0. 0. 0. 0. 0. 0. 1. 0. 0. 0.]': 603,\n",
       " '[0. 1. 0. 0. 0. 0. 0. 0. 0. 0. 0. 0.]': 887,\n",
       " '[0. 0. 0. 0. 0. 0. 0. 1. 0. 0. 0. 0.]': 7023,\n",
       " '[0. 0. 0. 0. 0. 0. 1. 0. 0. 0. 0. 0.]': 181,\n",
       " '[0. 0. 0. 1. 0. 0. 0. 0. 0. 0. 0. 0.]': 1046,\n",
       " '[0. 0. 1. 0. 0. 0. 0. 0. 0. 0. 0. 0.]': 660,\n",
       " '[1. 0. 0. 0. 0. 0. 0. 0. 0. 0. 0. 0.]': 1309,\n",
       " '[0. 0. 0. 0. 0. 0. 0. 0. 0. 0. 0. 1.]': 1112,\n",
       " '[0. 0. 0. 0. 0. 0. 0. 0. 0. 1. 0. 0.]': 726,\n",
       " '[0. 0. 0. 0. 0. 0. 0. 0. 0. 0. 1. 0.]': 143,\n",
       " '[0. 0. 0. 0. 1. 0. 0. 0. 0. 0. 0. 0.]': 122,\n",
       " '[0. 0. 0. 0. 0. 1. 0. 0. 0. 0. 0. 0.]': 176}"
      ]
     },
     "execution_count": 9,
     "metadata": {},
     "output_type": "execute_result"
    }
   ],
   "source": [
    "counts"
   ]
  },
  {
   "cell_type": "code",
   "execution_count": 10,
   "metadata": {},
   "outputs": [
    {
     "ename": "KeyboardInterrupt",
     "evalue": "",
     "output_type": "error",
     "traceback": [
      "\u001b[0;31m---------------------------------------------------------------------------\u001b[0m",
      "\u001b[0;31mKeyboardInterrupt\u001b[0m                         Traceback (most recent call last)",
      "\u001b[0;32m<ipython-input-10-38a94fce80de>\u001b[0m in \u001b[0;36m<module>\u001b[0;34m\u001b[0m\n\u001b[1;32m      3\u001b[0m         \u001b[0mnew_X_train\u001b[0m \u001b[0;34m=\u001b[0m \u001b[0mnp\u001b[0m\u001b[0;34m.\u001b[0m\u001b[0marray\u001b[0m\u001b[0;34m(\u001b[0m\u001b[0;34m[\u001b[0m\u001b[0mnp\u001b[0m\u001b[0;34m.\u001b[0m\u001b[0mfliplr\u001b[0m\u001b[0;34m(\u001b[0m\u001b[0mX_train\u001b[0m\u001b[0;34m[\u001b[0m\u001b[0mi\u001b[0m\u001b[0;34m]\u001b[0m\u001b[0;34m)\u001b[0m\u001b[0;34m,\u001b[0m \u001b[0mnp\u001b[0m\u001b[0;34m.\u001b[0m\u001b[0mflipud\u001b[0m\u001b[0;34m(\u001b[0m\u001b[0mX_train\u001b[0m\u001b[0;34m[\u001b[0m\u001b[0mi\u001b[0m\u001b[0;34m]\u001b[0m\u001b[0;34m)\u001b[0m\u001b[0;34m,\u001b[0m \u001b[0mnp\u001b[0m\u001b[0;34m.\u001b[0m\u001b[0mflipud\u001b[0m\u001b[0;34m(\u001b[0m\u001b[0mnp\u001b[0m\u001b[0;34m.\u001b[0m\u001b[0mfliplr\u001b[0m\u001b[0;34m(\u001b[0m\u001b[0mX_train\u001b[0m\u001b[0;34m[\u001b[0m\u001b[0mi\u001b[0m\u001b[0;34m]\u001b[0m\u001b[0;34m)\u001b[0m\u001b[0;34m)\u001b[0m\u001b[0;34m]\u001b[0m\u001b[0;34m)\u001b[0m\u001b[0;34m\u001b[0m\u001b[0;34m\u001b[0m\u001b[0m\n\u001b[1;32m      4\u001b[0m         \u001b[0mnew_y_train\u001b[0m \u001b[0;34m=\u001b[0m \u001b[0mnp\u001b[0m\u001b[0;34m.\u001b[0m\u001b[0marray\u001b[0m\u001b[0;34m(\u001b[0m\u001b[0;34m[\u001b[0m\u001b[0my_train\u001b[0m\u001b[0;34m[\u001b[0m\u001b[0mi\u001b[0m\u001b[0;34m]\u001b[0m\u001b[0;34m,\u001b[0m \u001b[0my_train\u001b[0m\u001b[0;34m[\u001b[0m\u001b[0mi\u001b[0m\u001b[0;34m]\u001b[0m\u001b[0;34m,\u001b[0m \u001b[0my_train\u001b[0m\u001b[0;34m[\u001b[0m\u001b[0mi\u001b[0m\u001b[0;34m]\u001b[0m\u001b[0;34m]\u001b[0m\u001b[0;34m)\u001b[0m\u001b[0;34m\u001b[0m\u001b[0;34m\u001b[0m\u001b[0m\n\u001b[0;32m----> 5\u001b[0;31m         \u001b[0mX_train\u001b[0m \u001b[0;34m=\u001b[0m \u001b[0mnp\u001b[0m\u001b[0;34m.\u001b[0m\u001b[0mconcatenate\u001b[0m\u001b[0;34m(\u001b[0m\u001b[0;34m(\u001b[0m\u001b[0mX_train\u001b[0m\u001b[0;34m,\u001b[0m \u001b[0mnew_X_train\u001b[0m\u001b[0;34m)\u001b[0m\u001b[0;34m,\u001b[0m \u001b[0maxis\u001b[0m\u001b[0;34m=\u001b[0m\u001b[0;36m0\u001b[0m\u001b[0;34m)\u001b[0m\u001b[0;34m\u001b[0m\u001b[0;34m\u001b[0m\u001b[0m\n\u001b[0m\u001b[1;32m      6\u001b[0m         \u001b[0my_train\u001b[0m \u001b[0;34m=\u001b[0m \u001b[0mnp\u001b[0m\u001b[0;34m.\u001b[0m\u001b[0mconcatenate\u001b[0m\u001b[0;34m(\u001b[0m\u001b[0;34m(\u001b[0m\u001b[0my_train\u001b[0m\u001b[0;34m,\u001b[0m \u001b[0mnew_y_train\u001b[0m\u001b[0;34m)\u001b[0m\u001b[0;34m,\u001b[0m \u001b[0maxis\u001b[0m\u001b[0;34m=\u001b[0m\u001b[0;36m0\u001b[0m\u001b[0;34m)\u001b[0m\u001b[0;34m\u001b[0m\u001b[0;34m\u001b[0m\u001b[0m\n",
      "\u001b[0;32m<__array_function__ internals>\u001b[0m in \u001b[0;36mconcatenate\u001b[0;34m(*args, **kwargs)\u001b[0m\n",
      "\u001b[0;31mKeyboardInterrupt\u001b[0m: "
     ]
    }
   ],
   "source": [
    "for i in range(len(y_train)):\n",
    "    if counts[str(y_train[i])] < 1000:\n",
    "        new_X_train = np.array([np.fliplr(X_train[i]), np.flipud(X_train[i]), np.flipud(np.fliplr(X_train[i]))])\n",
    "        new_y_train = np.array([y_train[i], y_train[i], y_train[i]])\n",
    "        X_train = np.concatenate((X_train, new_X_train), axis=0)\n",
    "        y_train = np.concatenate((y_train, new_y_train), axis=0)"
   ]
  },
  {
   "cell_type": "code",
   "execution_count": 17,
   "metadata": {},
   "outputs": [
    {
     "data": {
      "text/plain": [
       "(14000, 40, 24, 1)"
      ]
     },
     "execution_count": 17,
     "metadata": {},
     "output_type": "execute_result"
    }
   ],
   "source": [
    "X_train.shape"
   ]
  },
  {
   "cell_type": "code",
   "execution_count": 18,
   "metadata": {},
   "outputs": [
    {
     "data": {
      "text/plain": [
       "(14000, 12)"
      ]
     },
     "execution_count": 18,
     "metadata": {},
     "output_type": "execute_result"
    }
   ],
   "source": [
    "y_train.shape"
   ]
  },
  {
   "cell_type": "code",
   "execution_count": 46,
   "metadata": {},
   "outputs": [
    {
     "name": "stdout",
     "output_type": "stream",
     "text": [
      "Model: \"sequential_11\"\n",
      "_________________________________________________________________\n",
      "Layer (type)                 Output Shape              Param #   \n",
      "=================================================================\n",
      "conv2d_22 (Conv2D)           (None, 38, 22, 15)        150       \n",
      "_________________________________________________________________\n",
      "max_pooling2d_22 (MaxPooling (None, 19, 11, 15)        0         \n",
      "_________________________________________________________________\n",
      "conv2d_23 (Conv2D)           (None, 17, 9, 15)         2040      \n",
      "_________________________________________________________________\n",
      "max_pooling2d_23 (MaxPooling (None, 9, 5, 15)          0         \n",
      "_________________________________________________________________\n",
      "flatten_11 (Flatten)         (None, 675)               0         \n",
      "_________________________________________________________________\n",
      "dense_25 (Dense)             (None, 675)               456300    \n",
      "_________________________________________________________________\n",
      "activation_25 (Activation)   (None, 675)               0         \n",
      "_________________________________________________________________\n",
      "dense_26 (Dense)             (None, 12)                8112      \n",
      "_________________________________________________________________\n",
      "activation_26 (Activation)   (None, 12)                0         \n",
      "=================================================================\n",
      "Total params: 466,602\n",
      "Trainable params: 466,602\n",
      "Non-trainable params: 0\n",
      "_________________________________________________________________\n"
     ]
    }
   ],
   "source": [
    "model = k.Sequential()\n",
    "model.add(k.layers.Conv2D(filters=15, kernel_size=(3,3), strides=(1, 1), padding=\"valid\", input_shape=(40, 24, 1)))\n",
    "model.add(k.layers.MaxPooling2D(pool_size=(2, 2), strides=(2,2), padding=\"same\"))\n",
    "model.add(k.layers.Conv2D(filters=15, kernel_size=(3,3), strides=(1, 1), padding=\"valid\"))\n",
    "model.add(k.layers.MaxPooling2D(pool_size=(2, 2), strides=(2,2), padding=\"same\"))\n",
    "model.add(k.layers.Flatten())\n",
    "model.add(k.layers.Dense(675))\n",
    "model.add(k.layers.Activation('relu'))\n",
    "model.add(k.layers.Dense(12))\n",
    "model.add(k.layers.Activation('softmax'))\n",
    "model.compile(optimizer='adam', loss='categorical_crossentropy', metrics=[\"accuracy\"])\n",
    "model.summary()"
   ]
  },
  {
   "cell_type": "code",
   "execution_count": 47,
   "metadata": {},
   "outputs": [
    {
     "name": "stdout",
     "output_type": "stream",
     "text": [
      "0\n",
      "800/800 [==============================] - 9s 11ms/step - loss: 1.6069 - accuracy: 0.5347\n",
      "125/125 [==============================] - 1s 5ms/step - loss: 1.4077 - accuracy: 0.5740\n",
      "1\n",
      "800/800 [==============================] - 8s 10ms/step - loss: 1.2091 - accuracy: 0.6339\n",
      "125/125 [==============================] - 1s 5ms/step - loss: 1.1184 - accuracy: 0.6618\n",
      "2\n",
      "800/800 [==============================] - 8s 11ms/step - loss: 1.0364 - accuracy: 0.6791\n",
      "125/125 [==============================] - 1s 5ms/step - loss: 1.0123 - accuracy: 0.6873\n",
      "3\n",
      "800/800 [==============================] - 9s 11ms/step - loss: 0.9283 - accuracy: 0.7097\n",
      "125/125 [==============================] - 1s 5ms/step - loss: 0.9791 - accuracy: 0.7017\n",
      "4\n",
      "800/800 [==============================] - 8s 10ms/step - loss: 0.8575 - accuracy: 0.7280\n",
      "125/125 [==============================] - 1s 5ms/step - loss: 0.9853 - accuracy: 0.6982\n",
      "5\n",
      "800/800 [==============================] - 8s 10ms/step - loss: 0.7849 - accuracy: 0.7503\n",
      "125/125 [==============================] - 1s 5ms/step - loss: 0.9841 - accuracy: 0.7055\n",
      "6\n",
      "800/800 [==============================] - 9s 11ms/step - loss: 0.7246 - accuracy: 0.7705\n",
      "125/125 [==============================] - 1s 5ms/step - loss: 0.9415 - accuracy: 0.7178\n",
      "7\n",
      "800/800 [==============================] - 9s 11ms/step - loss: 0.6678 - accuracy: 0.7849\n",
      "125/125 [==============================] - 1s 5ms/step - loss: 0.9126 - accuracy: 0.7245\n",
      "8\n",
      "800/800 [==============================] - 9s 11ms/step - loss: 0.6173 - accuracy: 0.8019\n",
      "125/125 [==============================] - 1s 6ms/step - loss: 0.9365 - accuracy: 0.7180\n",
      "9\n",
      "800/800 [==============================] - 9s 11ms/step - loss: 0.5695 - accuracy: 0.8172\n",
      "125/125 [==============================] - 1s 6ms/step - loss: 0.9139 - accuracy: 0.7355\n",
      "10\n",
      "800/800 [==============================] - 9s 11ms/step - loss: 0.5193 - accuracy: 0.8311\n",
      "125/125 [==============================] - 1s 5ms/step - loss: 0.9707 - accuracy: 0.7262\n",
      "11\n",
      "800/800 [==============================] - 8s 10ms/step - loss: 0.4744 - accuracy: 0.8432\n",
      "125/125 [==============================] - 1s 5ms/step - loss: 0.9442 - accuracy: 0.7312\n",
      "12\n",
      "800/800 [==============================] - 10s 12ms/step - loss: 0.4266 - accuracy: 0.8621\n",
      "125/125 [==============================] - 1s 5ms/step - loss: 1.0237 - accuracy: 0.7275\n",
      "13\n",
      "800/800 [==============================] - 10s 12ms/step - loss: 0.4046 - accuracy: 0.8651\n",
      "125/125 [==============================] - 1s 5ms/step - loss: 1.0155 - accuracy: 0.7462\n",
      "14\n",
      "800/800 [==============================] - 8s 11ms/step - loss: 0.3589 - accuracy: 0.8841\n",
      "125/125 [==============================] - 1s 5ms/step - loss: 1.0558 - accuracy: 0.7412\n",
      "15\n",
      "800/800 [==============================] - 9s 12ms/step - loss: 0.3285 - accuracy: 0.8927\n",
      "125/125 [==============================] - 1s 5ms/step - loss: 1.2089 - accuracy: 0.7097\n",
      "16\n",
      "800/800 [==============================] - 9s 11ms/step - loss: 0.3106 - accuracy: 0.8979\n",
      "125/125 [==============================] - 1s 5ms/step - loss: 1.1772 - accuracy: 0.7370\n",
      "17\n",
      "800/800 [==============================] - 9s 12ms/step - loss: 0.2741 - accuracy: 0.9111\n",
      "125/125 [==============================] - 1s 5ms/step - loss: 1.2170 - accuracy: 0.7430\n",
      "18\n",
      "800/800 [==============================] - 8s 10ms/step - loss: 0.2492 - accuracy: 0.9184\n",
      "125/125 [==============================] - 1s 5ms/step - loss: 1.2821 - accuracy: 0.7390\n",
      "19\n",
      "800/800 [==============================] - 8s 10ms/step - loss: 0.2243 - accuracy: 0.9279\n",
      "125/125 [==============================] - 1s 5ms/step - loss: 1.4476 - accuracy: 0.7303\n"
     ]
    }
   ],
   "source": [
    "for i in range(20):\n",
    "    print(i)\n",
    "    model.fit(X_train, y_train, epochs=1, batch_size=20, verbose=1, shuffle=True)\n",
    "    model.evaluate(X_test, y_test, verbose=1)"
   ]
  },
  {
   "cell_type": "code",
   "execution_count": 50,
   "metadata": {},
   "outputs": [
    {
     "name": "stdout",
     "output_type": "stream",
     "text": [
      "188/188 [==============================] - 1s 7ms/step - loss: 2.1798 - accuracy: 0.6997\n",
      "Prediction loss, accuracy: (2.179806709289551, 0.6996666789054871)\n"
     ]
    }
   ],
   "source": [
    "loss, acc = model.evaluate(X_test, y_test, verbose=1)\n",
    "print(f\"Prediction loss, accuracy: {loss, acc}\")"
   ]
  },
  {
   "cell_type": "code",
   "execution_count": 15,
   "metadata": {},
   "outputs": [],
   "source": [
    "model.save(\"model.h5\")"
   ]
  },
  {
   "cell_type": "code",
   "execution_count": null,
   "metadata": {},
   "outputs": [],
   "source": [
    "model = load_model('model.h5')"
   ]
  }
 ],
 "metadata": {
  "kernelspec": {
   "display_name": "Python 3",
   "language": "python",
   "name": "python3"
  },
  "language_info": {
   "codemirror_mode": {
    "name": "ipython",
    "version": 3
   },
   "file_extension": ".py",
   "mimetype": "text/x-python",
   "name": "python",
   "nbconvert_exporter": "python",
   "pygments_lexer": "ipython3",
   "version": "3.8.5"
  }
 },
 "nbformat": 4,
 "nbformat_minor": 2
}
