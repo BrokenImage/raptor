{
  "nbformat": 4,
  "nbformat_minor": 0,
  "metadata": {
    "colab": {
      "name": "solar_module_clf.ipynb",
      "provenance": [],
      "collapsed_sections": []
    },
    "kernelspec": {
      "name": "python3",
      "display_name": "Python 3"
    }
  },
  "cells": [
    {
      "cell_type": "code",
      "metadata": {
        "id": "11La92D7sMoN"
      },
      "source": [
        ""
      ],
      "execution_count": null,
      "outputs": []
    },
    {
      "cell_type": "code",
      "metadata": {
        "id": "5ddnT-ChTgyy",
        "outputId": "aebce6d6-1510-4945-ef73-3cc666741bc0",
        "colab": {
          "base_uri": "https://localhost:8080/",
          "height": 34
        }
      },
      "source": [
        "from google.colab import drive\n",
        "drive.mount('/content/drive')"
      ],
      "execution_count": 6,
      "outputs": [
        {
          "output_type": "stream",
          "text": [
            "Drive already mounted at /content/drive; to attempt to forcibly remount, call drive.mount(\"/content/drive\", force_remount=True).\n"
          ],
          "name": "stdout"
        }
      ]
    },
    {
      "cell_type": "code",
      "metadata": {
        "id": "1jwqCXRHTuDJ"
      },
      "source": [
        "import numpy as np\n",
        "import keras as k\n",
        "import json\n",
        "import PIL"
      ],
      "execution_count": 7,
      "outputs": []
    },
    {
      "cell_type": "code",
      "metadata": {
        "id": "dDBPe4nNUC4U"
      },
      "source": [
        "def imagegen():\n",
        "    f = open('/content/drive/My Drive/InfraredSolarModules/module_metadata.json',) \n",
        "    meta = json.load(f) \n",
        "    f.close() \n",
        "    img = []\n",
        "    label = []\n",
        "    for i in range(9980,10020):\n",
        "        img.append(np.array(k.preprocessing.image.load_img('/content/drive/My Drive/InfraredSolarModules/' + meta[str(i)]['image_filepath'], target_size=(224, 224))))\n",
        "        if meta[str(i)]['anomaly_class'] == 'No-Anomaly':\n",
        "          label.append('No-Anomaly')\n",
        "        else:\n",
        "          label.append('Anomaly')  \n",
        "    return np.array(img), np.array(label)\n",
        " \n",
        "imgs, labels = imagegen()\n",
        "\n"
      ],
      "execution_count": 59,
      "outputs": []
    },
    {
      "cell_type": "code",
      "metadata": {
        "id": "dsYpUGo703wM",
        "outputId": "e11d124c-62c6-4479-b911-b6048e6b8b87",
        "colab": {
          "base_uri": "https://localhost:8080/",
          "height": 34
        }
      },
      "source": [
        "print(len(labels))"
      ],
      "execution_count": 60,
      "outputs": [
        {
          "output_type": "stream",
          "text": [
            "40\n"
          ],
          "name": "stdout"
        }
      ]
    },
    {
      "cell_type": "code",
      "metadata": {
        "id": "PSF0prVENbCy",
        "outputId": "ddf95500-4e0a-4a2c-c78c-37e81bb98aad",
        "colab": {
          "base_uri": "https://localhost:8080/",
          "height": 34
        }
      },
      "source": [
        "type(imgs)"
      ],
      "execution_count": 9,
      "outputs": [
        {
          "output_type": "execute_result",
          "data": {
            "text/plain": [
              "numpy.ndarray"
            ]
          },
          "metadata": {
            "tags": []
          },
          "execution_count": 9
        }
      ]
    },
    {
      "cell_type": "code",
      "metadata": {
        "id": "b4L8_k6FcJ8o",
        "outputId": "6e527978-2282-4f84-fa91-d0e6ab80254f",
        "colab": {
          "base_uri": "https://localhost:8080/",
          "height": 34
        }
      },
      "source": [
        "imgs.shape"
      ],
      "execution_count": 42,
      "outputs": [
        {
          "output_type": "execute_result",
          "data": {
            "text/plain": [
              "(10, 224, 224)"
            ]
          },
          "metadata": {
            "tags": []
          },
          "execution_count": 42
        }
      ]
    },
    {
      "cell_type": "code",
      "metadata": {
        "id": "ymL44mYpebN9"
      },
      "source": [
        "f = open('/content/drive/My Drive/InfraredSolarModules/module_metadata.json',) \n",
        "meta = json.load(f) \n",
        "f.close() "
      ],
      "execution_count": 10,
      "outputs": []
    },
    {
      "cell_type": "code",
      "metadata": {
        "id": "JMTVzTjEZ79e",
        "outputId": "3917d229-4993-4941-edf2-54a434bc3d7b",
        "colab": {
          "base_uri": "https://localhost:8080/",
          "height": 34
        }
      },
      "source": [
        "from keras.applications.vgg16 import preprocess_input\n",
        "from keras.applications.vgg16 import VGG16 \n",
        "from keras.applications.resnet50 import preprocess_input\n",
        "from keras.preprocessing import image\n",
        "\n",
        "model = VGG16(weights=\"imagenet\", include_top=False, classes=2)\n",
        "\n",
        "def preprocess_image(imgs):\n",
        "  preprocessed_images = []\n",
        "\n",
        "  for image_item in imgs:\n",
        "    image_item = image.img_to_array(image_item)\n",
        "    image_item = np.expand_dims(image_item, axis=0)\n",
        "    image_item = preprocess_input(image_item) \n",
        "\n",
        "preprocess_image(imgs)\n",
        "\n",
        "\n",
        "features = model.predict(imgs)\n",
        "print(features.shape)"
      ],
      "execution_count": 61,
      "outputs": [
        {
          "output_type": "stream",
          "text": [
            "(40, 7, 7, 512)\n"
          ],
          "name": "stdout"
        }
      ]
    },
    {
      "cell_type": "code",
      "metadata": {
        "id": "Yj32LYl2UfgH",
        "outputId": "3d75e6ff-3ea2-419e-d424-e9cb4aeec01e",
        "colab": {
          "base_uri": "https://localhost:8080/",
          "height": 34
        }
      },
      "source": [
        "img.shape"
      ],
      "execution_count": 15,
      "outputs": [
        {
          "output_type": "execute_result",
          "data": {
            "text/plain": [
              "(10, 224, 224, 1)"
            ]
          },
          "metadata": {
            "tags": []
          },
          "execution_count": 15
        }
      ]
    },
    {
      "cell_type": "code",
      "metadata": {
        "id": "lmshkg7QVenI"
      },
      "source": [
        ""
      ],
      "execution_count": 16,
      "outputs": []
    },
    {
      "cell_type": "code",
      "metadata": {
        "id": "BJYe9UCHvyKv"
      },
      "source": [
        "from sklearn import svm\n",
        "from sklearn.model_selection import train_test_split\n",
        "features = features.reshape(40,7*7*512)\n",
        "svm_classifier = svm.SVC(kernel='linear', C=10)\n",
        "\n",
        "X_train, X_test, y_train, y_test = train_test_split(features, labels, test_size=0.25)\n",
        "\n"
      ],
      "execution_count": 64,
      "outputs": []
    },
    {
      "cell_type": "code",
      "metadata": {
        "id": "d_wq7lXwsYSc",
        "outputId": "5253db7d-2d4e-4eeb-8dc4-fc6f7dfbbc2d",
        "colab": {
          "base_uri": "https://localhost:8080/",
          "height": 136
        }
      },
      "source": [
        "print(X_train.shape)\n",
        "\n",
        "print(X_train.shape)\n",
        "print(y_train)"
      ],
      "execution_count": 65,
      "outputs": [
        {
          "output_type": "stream",
          "text": [
            "(30, 25088)\n",
            "(30, 25088)\n",
            "['Anomaly' 'Anomaly' 'Anomaly' 'Anomaly' 'Anomaly' 'No-Anomaly'\n",
            " 'No-Anomaly' 'Anomaly' 'No-Anomaly' 'No-Anomaly' 'No-Anomaly' 'Anomaly'\n",
            " 'Anomaly' 'Anomaly' 'Anomaly' 'Anomaly' 'Anomaly' 'Anomaly' 'No-Anomaly'\n",
            " 'No-Anomaly' 'No-Anomaly' 'No-Anomaly' 'No-Anomaly' 'No-Anomaly'\n",
            " 'No-Anomaly' 'No-Anomaly' 'Anomaly' 'Anomaly' 'Anomaly' 'No-Anomaly']\n"
          ],
          "name": "stdout"
        }
      ]
    },
    {
      "cell_type": "code",
      "metadata": {
        "id": "DoIiQEamsWOo",
        "outputId": "538becbb-331f-4ebf-a5e3-5e63eec99aa5",
        "colab": {
          "base_uri": "https://localhost:8080/",
          "height": 51
        }
      },
      "source": [
        "\n",
        "svm_classifier.fit(X_train, y_train)\n",
        "\n",
        "y_pred = svm_classifier.predict(X_test)\n",
        "\n",
        "from sklearn.metrics import confusion_matrix\n",
        "\n",
        "confusion_matrix(y_test, y_pred)"
      ],
      "execution_count": 67,
      "outputs": [
        {
          "output_type": "execute_result",
          "data": {
            "text/plain": [
              "array([[2, 2],\n",
              "       [1, 5]])"
            ]
          },
          "metadata": {
            "tags": []
          },
          "execution_count": 67
        }
      ]
    }
  ]
}